{
 "cells": [
  {
   "cell_type": "code",
   "execution_count": 36,
   "metadata": {},
   "outputs": [],
   "source": [
    "# imports\n",
    "import math as m\n",
    "import statistics as stat\n",
    "\n",
    "dataset = [8326, 8459, 8765, 8971, 8972, 9380, 9779, 9877, 10126, 10323, 10956, 11163, 11294, 11366, 11486, 11798, 11863, 11964, 12478, 13167, 13392, 13947, 14237,14238, 14387, 14876, 14877, 15256, 15696, 15891, 16673, 16675, 16793, 16973, 16983, 17961, 19362, 19667, 20044, 20144, 20167, 21044, 22167, 23894, 24129, 24383, 27753]\n",
    "# dataInput = [1672,4960,8070,9300,9680,9891,9972,10800,10855,11908,12500,13000,14449,15170,15820,16300,16820,17260,18624,19650,19980,20476,20980,21973,23344,24900,28205,29538,29932,32640,33645,34280,34325,36300,37250,38320]\n",
    "# dataInput = [126300,240000,312300,341400,394700,190500,258900,316200,342700,410900,200900,260500,316400,345000,413200,214900,282100,334100,345400,441200,234300,304900,335100,375400,463800]\n",
    "\n"
   ]
  },
  {
   "cell_type": "code",
   "execution_count": 37,
   "metadata": {},
   "outputs": [],
   "source": [
    "#broj intervala\n",
    "failureNumber = len(dataset)\n",
    "def getNumberOfIntervals(_failureNumber):\n",
    "    z1 = m.sqrt(_failureNumber)\n",
    "    z2 = 1+3.3*(m.log10(_failureNumber))\n",
    "    z3 = 5*m.log10(_failureNumber)\n",
    "    return round(stat.mean([z1, z2, z3])) #za sada najbolji nacin koji imam da odredim ovo\n",
    "\n",
    "numberOfIntervals = getNumberOfIntervals(failureNumber)"
   ]
  },
  {
   "cell_type": "code",
   "execution_count": 38,
   "metadata": {},
   "outputs": [
    {
     "output_type": "stream",
     "name": "stdout",
     "text": "2775.285714285714\n"
    }
   ],
   "source": [
    "#sirina intervala \n",
    "def getIntervalDistance(_dataset,_numberOfIntervals):\n",
    "    tmax = _dataset[len(_dataset)-1]\n",
    "    tmin = _dataset[0]\n",
    "    return (tmax-tmin)/_numberOfIntervals\n",
    "\n",
    "intervalDistance = getIntervalDistance(dataset,numberOfIntervals)\n",
    "print(intervalDistance)"
   ]
  },
  {
   "cell_type": "code",
   "execution_count": 41,
   "metadata": {},
   "outputs": [
    {
     "output_type": "stream",
     "name": "stdout",
     "text": "2775.285714285714\n11163  init fail   >  11101.285714285714  failNum 11  failCount\n13947  init fail   >  13876.571428571428  failNum 20  failCount\n16673  init fail   >  16651.857142857145  failNum 28  failCount\n19667  init fail   >  19427.142857142855  failNum 34  failCount\n23894  init fail   >  22202.428571428572  failNum 39  failCount\n27753  init fail   >  24977.714285714286  failNum 41  failCount\nTacan rezultat  [11, 10, 9, 7, 6, 3, 1]\n[12, 9, 8, 6, 5, 2]\n"
    }
   ],
   "source": [
    "#broj otkaza po intervalima\n",
    "\n",
    "failurePerInterval = []\n",
    "failureStep = []\n",
    "def getFailuresPerInterval(_dataset,_intervalDistance,_numberOfIntervals):\n",
    "    _count = 0\n",
    "    failureCount = 0\n",
    "    temp = _dataset[0]\n",
    "    for i in range(0,_numberOfIntervals+1):\n",
    "        failureStep.append(temp+(i*_intervalDistance))\n",
    "    print(intervalDistance)\n",
    "    for i in _dataset:\n",
    "        if(_count == 0):\n",
    "            _count += 1\n",
    "            failureCount += 1\n",
    "            continue\n",
    "        if(i<=failureStep[_count]):\n",
    "            failureCount += 1\n",
    "\n",
    "        else:\n",
    "            print(i,\" init fail \",\" > \",failureStep[_count],\" failNum\", failureCount,\" failCount\")\n",
    "            t = sum(failurePerInterval)\n",
    "            failurePerInterval.append(failureCount-t)\n",
    "            _count = _count + 1\n",
    "    # print(sum(failurePerInterval))\n",
    "    print(\"Tacan rezultat \",[11,10,9,7,6,3,1])\n",
    "    return failurePerInterval\n",
    "print(getFailuresPerInterval(dataset,intervalDistance,numberOfIntervals))\n",
    "# print(sum(getFailuresPerInterval(dataset,intervalDistance,numberOfIntervals)))\n"
   ]
  },
  {
   "cell_type": "code",
   "execution_count": null,
   "metadata": {},
   "outputs": [],
   "source": []
  },
  {
   "cell_type": "code",
   "execution_count": null,
   "metadata": {},
   "outputs": [],
   "source": []
  }
 ],
 "metadata": {
  "language_info": {
   "codemirror_mode": {
    "name": "ipython",
    "version": 3
   },
   "file_extension": ".py",
   "mimetype": "text/x-python",
   "name": "python",
   "nbconvert_exporter": "python",
   "pygments_lexer": "ipython3",
   "version": "3.7.4-final"
  },
  "orig_nbformat": 2,
  "kernelspec": {
   "name": "python3",
   "display_name": "Python 3"
  }
 },
 "nbformat": 4,
 "nbformat_minor": 2
}